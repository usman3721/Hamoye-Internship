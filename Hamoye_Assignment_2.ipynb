{
  "nbformat": 4,
  "nbformat_minor": 0,
  "metadata": {
    "colab": {
      "provenance": [],
      "mount_file_id": "10oLwllS5A3nhZ_VL5VelbV5GN-OSL0q-",
      "authorship_tag": "ABX9TyNjpkwwzhSKDytr/iEMPQxk",
      "include_colab_link": true
    },
    "kernelspec": {
      "name": "python3",
      "display_name": "Python 3"
    },
    "language_info": {
      "name": "python"
    }
  },
  "cells": [
    {
      "cell_type": "markdown",
      "metadata": {
        "id": "view-in-github",
        "colab_type": "text"
      },
      "source": [
        "<a href=\"https://colab.research.google.com/github/usman3721/Hamoye-Internship/blob/main/Hamoye_Assignment_2.ipynb\" target=\"_parent\"><img src=\"https://colab.research.google.com/assets/colab-badge.svg\" alt=\"Open In Colab\"/></a>"
      ]
    },
    {
      "cell_type": "code",
      "source": [
        "import numpy as np\n",
        "import pandas as pd\n",
        "from sklearn.linear_model import LinearRegression\n",
        "from sklearn.model_selection import train_test_split\n",
        "from sklearn.preprocessing import StandardScaler\n",
        "from sklearn.model_selection import GridSearchCV\n",
        "from sklearn.metrics import accuracy_score, classification_report\n",
        "from sklearn.preprocessing import MinMaxScaler\n",
        "from sklearn.metrics import mean_absolute_error, mean_squared_error, r2_score\n",
        "from sklearn.linear_model import Ridge, Lasso\n",
        "\n"
      ],
      "metadata": {
        "id": "irB3JNbjQwjy"
      },
      "execution_count": 2,
      "outputs": []
    },
    {
      "cell_type": "code",
      "execution_count": 3,
      "metadata": {
        "id": "71x_F831NtZp"
      },
      "outputs": [],
      "source": [
        "import chardet\n",
        "with open('/content/drive/MyDrive/Hamoye Intership spring 2024/KAG_energydata_complete.csv', 'rb') as f:\n",
        "    encoding = chardet.detect(f.read())['encoding']"
      ]
    },
    {
      "cell_type": "code",
      "source": [
        "import pandas as pd\n",
        "df = pd.read_csv('/content/drive/MyDrive/Hamoye Intership spring 2024/KAG_energydata_complete.csv',encoding=encoding)"
      ],
      "metadata": {
        "id": "GSIhIzK6Pbg3"
      },
      "execution_count": 4,
      "outputs": []
    },
    {
      "cell_type": "code",
      "source": [
        "df"
      ],
      "metadata": {
        "id": "PTvHc-68Pqoe"
      },
      "execution_count": null,
      "outputs": []
    },
    {
      "cell_type": "code",
      "source": [],
      "metadata": {
        "id": "5LcJMTqKPx4X"
      },
      "execution_count": null,
      "outputs": []
    },
    {
      "cell_type": "markdown",
      "source": [
        "QUESTION 17"
      ],
      "metadata": {
        "id": "oR_KpONUQwQj"
      }
    },
    {
      "cell_type": "code",
      "source": [
        "X = df[['T2']]\n",
        "y = df['T6']\n"
      ],
      "metadata": {
        "id": "D175o45KQiIt"
      },
      "execution_count": 6,
      "outputs": []
    },
    {
      "cell_type": "code",
      "source": [
        "X_train, X_test, y_train, y_test = train_test_split(X, y, test_size=0.2, random_state=42)\n",
        "\n"
      ],
      "metadata": {
        "id": "lqryDaJRE4IU"
      },
      "execution_count": 7,
      "outputs": []
    },
    {
      "cell_type": "code",
      "source": [
        "model=LinearRegression()"
      ],
      "metadata": {
        "id": "SaX30-rAFgpg"
      },
      "execution_count": 8,
      "outputs": []
    },
    {
      "cell_type": "code",
      "source": [
        "model.fit(X_train, y_train)"
      ],
      "metadata": {
        "colab": {
          "base_uri": "https://localhost:8080/",
          "height": 74
        },
        "id": "LwdSRpbgE8-U",
        "outputId": "e40674a4-bba9-43fb-850f-1d50f374f8b9"
      },
      "execution_count": 9,
      "outputs": [
        {
          "output_type": "execute_result",
          "data": {
            "text/plain": [
              "LinearRegression()"
            ],
            "text/html": [
              "<style>#sk-container-id-1 {color: black;background-color: white;}#sk-container-id-1 pre{padding: 0;}#sk-container-id-1 div.sk-toggleable {background-color: white;}#sk-container-id-1 label.sk-toggleable__label {cursor: pointer;display: block;width: 100%;margin-bottom: 0;padding: 0.3em;box-sizing: border-box;text-align: center;}#sk-container-id-1 label.sk-toggleable__label-arrow:before {content: \"▸\";float: left;margin-right: 0.25em;color: #696969;}#sk-container-id-1 label.sk-toggleable__label-arrow:hover:before {color: black;}#sk-container-id-1 div.sk-estimator:hover label.sk-toggleable__label-arrow:before {color: black;}#sk-container-id-1 div.sk-toggleable__content {max-height: 0;max-width: 0;overflow: hidden;text-align: left;background-color: #f0f8ff;}#sk-container-id-1 div.sk-toggleable__content pre {margin: 0.2em;color: black;border-radius: 0.25em;background-color: #f0f8ff;}#sk-container-id-1 input.sk-toggleable__control:checked~div.sk-toggleable__content {max-height: 200px;max-width: 100%;overflow: auto;}#sk-container-id-1 input.sk-toggleable__control:checked~label.sk-toggleable__label-arrow:before {content: \"▾\";}#sk-container-id-1 div.sk-estimator input.sk-toggleable__control:checked~label.sk-toggleable__label {background-color: #d4ebff;}#sk-container-id-1 div.sk-label input.sk-toggleable__control:checked~label.sk-toggleable__label {background-color: #d4ebff;}#sk-container-id-1 input.sk-hidden--visually {border: 0;clip: rect(1px 1px 1px 1px);clip: rect(1px, 1px, 1px, 1px);height: 1px;margin: -1px;overflow: hidden;padding: 0;position: absolute;width: 1px;}#sk-container-id-1 div.sk-estimator {font-family: monospace;background-color: #f0f8ff;border: 1px dotted black;border-radius: 0.25em;box-sizing: border-box;margin-bottom: 0.5em;}#sk-container-id-1 div.sk-estimator:hover {background-color: #d4ebff;}#sk-container-id-1 div.sk-parallel-item::after {content: \"\";width: 100%;border-bottom: 1px solid gray;flex-grow: 1;}#sk-container-id-1 div.sk-label:hover label.sk-toggleable__label {background-color: #d4ebff;}#sk-container-id-1 div.sk-serial::before {content: \"\";position: absolute;border-left: 1px solid gray;box-sizing: border-box;top: 0;bottom: 0;left: 50%;z-index: 0;}#sk-container-id-1 div.sk-serial {display: flex;flex-direction: column;align-items: center;background-color: white;padding-right: 0.2em;padding-left: 0.2em;position: relative;}#sk-container-id-1 div.sk-item {position: relative;z-index: 1;}#sk-container-id-1 div.sk-parallel {display: flex;align-items: stretch;justify-content: center;background-color: white;position: relative;}#sk-container-id-1 div.sk-item::before, #sk-container-id-1 div.sk-parallel-item::before {content: \"\";position: absolute;border-left: 1px solid gray;box-sizing: border-box;top: 0;bottom: 0;left: 50%;z-index: -1;}#sk-container-id-1 div.sk-parallel-item {display: flex;flex-direction: column;z-index: 1;position: relative;background-color: white;}#sk-container-id-1 div.sk-parallel-item:first-child::after {align-self: flex-end;width: 50%;}#sk-container-id-1 div.sk-parallel-item:last-child::after {align-self: flex-start;width: 50%;}#sk-container-id-1 div.sk-parallel-item:only-child::after {width: 0;}#sk-container-id-1 div.sk-dashed-wrapped {border: 1px dashed gray;margin: 0 0.4em 0.5em 0.4em;box-sizing: border-box;padding-bottom: 0.4em;background-color: white;}#sk-container-id-1 div.sk-label label {font-family: monospace;font-weight: bold;display: inline-block;line-height: 1.2em;}#sk-container-id-1 div.sk-label-container {text-align: center;}#sk-container-id-1 div.sk-container {/* jupyter's `normalize.less` sets `[hidden] { display: none; }` but bootstrap.min.css set `[hidden] { display: none !important; }` so we also need the `!important` here to be able to override the default hidden behavior on the sphinx rendered scikit-learn.org. See: https://github.com/scikit-learn/scikit-learn/issues/21755 */display: inline-block !important;position: relative;}#sk-container-id-1 div.sk-text-repr-fallback {display: none;}</style><div id=\"sk-container-id-1\" class=\"sk-top-container\"><div class=\"sk-text-repr-fallback\"><pre>LinearRegression()</pre><b>In a Jupyter environment, please rerun this cell to show the HTML representation or trust the notebook. <br />On GitHub, the HTML representation is unable to render, please try loading this page with nbviewer.org.</b></div><div class=\"sk-container\" hidden><div class=\"sk-item\"><div class=\"sk-estimator sk-toggleable\"><input class=\"sk-toggleable__control sk-hidden--visually\" id=\"sk-estimator-id-1\" type=\"checkbox\" checked><label for=\"sk-estimator-id-1\" class=\"sk-toggleable__label sk-toggleable__label-arrow\">LinearRegression</label><div class=\"sk-toggleable__content\"><pre>LinearRegression()</pre></div></div></div></div></div>"
            ]
          },
          "metadata": {},
          "execution_count": 9
        }
      ]
    },
    {
      "cell_type": "code",
      "source": [
        "y_pred = model.predict(X_test)\n"
      ],
      "metadata": {
        "id": "_9jxpEhAGctO"
      },
      "execution_count": 10,
      "outputs": []
    },
    {
      "cell_type": "code",
      "source": [
        "rmse = np.sqrt(mean_squared_error(y_test, y_pred))\n",
        "print(\"Root Mean Squared Error:\", round(rmse, 3))\n"
      ],
      "metadata": {
        "colab": {
          "base_uri": "https://localhost:8080/"
        },
        "id": "wL86JlGgGOhb",
        "outputId": "256a6767-d905-4faf-92d9-dc469682f96c"
      },
      "execution_count": 11,
      "outputs": [
        {
          "output_type": "stream",
          "name": "stdout",
          "text": [
            "Root Mean Squared Error: 3.633\n"
          ]
        }
      ]
    },
    {
      "cell_type": "markdown",
      "source": [
        "QUESTION 18"
      ],
      "metadata": {
        "id": "Xee5qCrRRaX6"
      }
    },
    {
      "cell_type": "code",
      "source": [
        "\n",
        "df = df.drop(columns=['date', 'lights'])\n",
        "\n",
        "X = df.drop(columns=['Appliances'])\n",
        "y = df['Appliances']\n",
        "\n",
        "\n",
        "X_train, X_test, y_train, y_test = train_test_split(X, y, test_size=0.3, random_state=42)\n",
        "\n",
        "\n",
        "scaler = MinMaxScaler()\n",
        "X_train_normalized = scaler.fit_transform(X_train)\n",
        "X_test_normalized = scaler.transform(X_test)\n",
        "\n",
        "\n",
        "model = LinearRegression()\n",
        "model.fit(X_train_normalized, y_train)\n",
        "\n",
        "\n",
        "y_train_pred = model.predict(X_train_normalized)\n",
        "\n",
        "\n",
        "mae_train = mean_absolute_error(y_train, y_train_pred)\n",
        "\n",
        "print(\"Mean Absolute Error (Training Set): {:.3f}\".format(mae_train))"
      ],
      "metadata": {
        "colab": {
          "base_uri": "https://localhost:8080/"
        },
        "id": "K8XyFy1oGSN0",
        "outputId": "cb0f2d0a-ba0c-46c7-85ee-aa51323b3c9b"
      },
      "execution_count": 12,
      "outputs": [
        {
          "output_type": "stream",
          "name": "stdout",
          "text": [
            "Mean Absolute Error (Training Set): 53.742\n"
          ]
        }
      ]
    },
    {
      "cell_type": "markdown",
      "source": [
        "QUESTION 19"
      ],
      "metadata": {
        "id": "MJckEVZzR0Bf"
      }
    },
    {
      "cell_type": "code",
      "source": [
        "mae_train = np.sqrt(mean_squared_error(y_train, y_train_pred))\n",
        "\n",
        "print(\"Mean Absolute Error (Training Set): {:.3f}\".format(mae_train))"
      ],
      "metadata": {
        "colab": {
          "base_uri": "https://localhost:8080/"
        },
        "id": "tKA8e_vdGVI1",
        "outputId": "c2244e79-3c02-4be2-9240-2dd98d225574"
      },
      "execution_count": 14,
      "outputs": [
        {
          "output_type": "stream",
          "name": "stdout",
          "text": [
            "Mean Absolute Error (Training Set): 95.216\n"
          ]
        }
      ]
    },
    {
      "cell_type": "markdown",
      "source": [
        "QYESTION 20"
      ],
      "metadata": {
        "id": "MaU4Mnw6SrEk"
      }
    },
    {
      "cell_type": "code",
      "source": [
        "\n",
        "y_test_pred = model.predict(X_test_normalized)\n",
        "mae_test = mean_absolute_error(y_test, y_test_pred)\n",
        "\n",
        "print(\"Mean Absolute Error (Test Set): {:.3f}\".format(mae_test))\n"
      ],
      "metadata": {
        "colab": {
          "base_uri": "https://localhost:8080/"
        },
        "id": "PIHBOn0vKOhn",
        "outputId": "66478443-14f3-424a-8a77-47f9b9c69b97"
      },
      "execution_count": 15,
      "outputs": [
        {
          "output_type": "stream",
          "name": "stdout",
          "text": [
            "Mean Absolute Error (Test Set): 53.643\n"
          ]
        }
      ]
    },
    {
      "cell_type": "markdown",
      "source": [
        "QUESTION 21"
      ],
      "metadata": {
        "id": "TgQEdlKgTBqV"
      }
    },
    {
      "cell_type": "code",
      "source": [
        "\n",
        "\n",
        "y_test_pred = model.predict(X_test_normalized)\n",
        "\n",
        "\n",
        "mse_test = mean_squared_error(y_test, y_test_pred)\n",
        "rmse_test = np.sqrt(mse_test)\n",
        "\n",
        "print(\"Root Mean Squared Error (Test Set): {:.3f}\".format(rmse_test))\n"
      ],
      "metadata": {
        "colab": {
          "base_uri": "https://localhost:8080/"
        },
        "id": "6xObU7N5KUNk",
        "outputId": "87f5b872-1793-4d23-fff0-9a1cfb974bda"
      },
      "execution_count": 16,
      "outputs": [
        {
          "output_type": "stream",
          "name": "stdout",
          "text": [
            "Root Mean Squared Error (Test Set): 93.640\n"
          ]
        }
      ]
    },
    {
      "cell_type": "markdown",
      "source": [
        "QUESTION 22"
      ],
      "metadata": {
        "id": "Yqjgw3KBTY5E"
      }
    },
    {
      "cell_type": "code",
      "source": [
        "\n",
        "ridge_model = Ridge()\n",
        "\n",
        "\n",
        "ridge_model.fit(X_train_normalized, y_train)\n",
        "\n",
        "\n",
        "y_test_pred_ridge = ridge_model.predict(X_test_normalized)\n",
        "\n",
        "\n",
        "rmse_test_ridge = np.sqrt(mean_squared_error(y_test, y_test_pred_ridge))\n",
        "\n",
        "print(\"Root Mean Squared Error (Test Set) - Ridge Regression: {:.3f}\".format(rmse_test_ridge))\n"
      ],
      "metadata": {
        "colab": {
          "base_uri": "https://localhost:8080/"
        },
        "id": "cH9GmhEjKW2j",
        "outputId": "ec49e48a-96ef-415b-cec6-219d75f081d6"
      },
      "execution_count": 17,
      "outputs": [
        {
          "output_type": "stream",
          "name": "stdout",
          "text": [
            "Root Mean Squared Error (Test Set) - Ridge Regression: 93.709\n"
          ]
        }
      ]
    },
    {
      "cell_type": "markdown",
      "source": [
        "QUESTION 23 : YES"
      ],
      "metadata": {
        "id": "8-ociO7FUfFz"
      }
    },
    {
      "cell_type": "markdown",
      "source": [
        "QUESTION 24"
      ],
      "metadata": {
        "id": "N2io0rCaT4S0"
      }
    },
    {
      "cell_type": "code",
      "source": [
        "from sklearn.linear_model import Lasso\n",
        "\n",
        "\n",
        "lasso_model = Lasso()\n",
        "\n",
        "lasso_model.fit(X_train_normalized, y_train)\n",
        "\n",
        "\n",
        "feature_weights = lasso_model.coef_\n",
        "\n",
        "non_zero_features = sum(feature_weights != 0)\n",
        "\n",
        "print(\"Number of features with non-zero feature weights:\", non_zero_features)\n"
      ],
      "metadata": {
        "colab": {
          "base_uri": "https://localhost:8080/"
        },
        "id": "l4EhiD1TTckq",
        "outputId": "28b7fede-c578-4298-8739-ac62f6af4675"
      },
      "execution_count": 18,
      "outputs": [
        {
          "output_type": "stream",
          "name": "stdout",
          "text": [
            "Number of features with non-zero feature weights: 4\n"
          ]
        }
      ]
    },
    {
      "cell_type": "markdown",
      "source": [
        "QUESTION 25"
      ],
      "metadata": {
        "id": "qUZxKpQxUO0E"
      }
    },
    {
      "cell_type": "code",
      "source": [
        "\n",
        "\n",
        "y_pred_test = lasso_model.predict(X_test_normalized)\n",
        "\n",
        "\n",
        "mse_test = mean_squared_error(y_test, y_pred_test)\n",
        "\n",
        "\n",
        "rmse_test = np.sqrt(mse_test)\n",
        "\n",
        "print(\"Root Mean Squared Error (RMSE) for the test set with Lasso Regression:\", round(rmse_test, 3))\n"
      ],
      "metadata": {
        "colab": {
          "base_uri": "https://localhost:8080/"
        },
        "id": "dPih-3JLT62B",
        "outputId": "dd57d789-d89d-41e8-decc-88de1f3bee21"
      },
      "execution_count": 19,
      "outputs": [
        {
          "output_type": "stream",
          "name": "stdout",
          "text": [
            "Root Mean Squared Error (RMSE) for the test set with Lasso Regression: 99.424\n"
          ]
        }
      ]
    },
    {
      "cell_type": "code",
      "source": [],
      "metadata": {
        "id": "h8Fbbl75USRI"
      },
      "execution_count": null,
      "outputs": []
    }
  ]
}